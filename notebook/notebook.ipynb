{
  "cells": [
    {
      "cell_type": "code",
      "execution_count": 12,
      "metadata": {
        "id": "I4uUzUJ8Fo-s"
      },
      "outputs": [],
      "source": [
        "import pandas as pd\n",
        "import tensorflow as tf\n",
        "from sklearn.model_selection import train_test_split\n",
        "from tensorflow.keras.preprocessing.text import Tokenizer\n",
        "from tensorflow.keras.preprocessing.sequence import pad_sequences\n",
        "from tensorflow.keras.layers import Embedding, GlobalAveragePooling1D, Dense\n",
        "import matplotlib.pyplot as plt\n",
        "import numpy as np\n",
        "import nltk\n",
        "from nltk.corpus import stopwords\n",
        "import json"
      ]
    },
    {
      "cell_type": "code",
      "execution_count": 13,
      "metadata": {
        "id": "1MMY3Lo1Fyeg"
      },
      "outputs": [],
      "source": [
        "df = pd.read_csv(\"/content/yelp_labelled.txt\", names=['sentence', 'label'], sep='\\t')"
      ]
    },
    {
      "cell_type": "code",
      "execution_count": 14,
      "metadata": {
        "colab": {
          "base_uri": "https://localhost:8080/"
        },
        "id": "K4k6xTr9GHUj",
        "outputId": "e87f250c-856b-465c-e638-5ff40406ec72"
      },
      "outputs": [
        {
          "name": "stderr",
          "output_type": "stream",
          "text": [
            "[nltk_data] Downloading package stopwords to /root/nltk_data...\n",
            "[nltk_data]   Package stopwords is already up-to-date!\n"
          ]
        }
      ],
      "source": [
        "nltk.download('stopwords')\n",
        "\n",
        "# Mengubah seluruh text kedalam bentuk lowercase\n",
        "df['sentence'] = df['sentence'].str.lower()\n",
        " \n",
        "# Menghilangkan stopwords\n",
        "stop_word = set(stopwords.words('english'))\n",
        " \n",
        "df['sentence'] = df['sentence'].apply(lambda x:' '.join([word for word in x.split() if word not in (stop_word)]))\n",
        " \n",
        "# Melakukan split dataset\n",
        "sentence = df['sentence'].values\n",
        "label = df['label'].values\n",
        " \n",
        "sentence_train, sentence_test, label_train, label_test = train_test_split(sentence, label, test_size=0.2, shuffle=False)\n",
        " \n",
        "# Membuat tokenisasi\n",
        "filt = '!\"#$%&()*+.,-/:;=?@[\\]^_`{|}~ ' # Filter untuk menghilangkan symbols\n",
        " \n",
        "tokenizer = Tokenizer(num_words=2000, oov_token=\"<OOV>\", filters=filt)\n",
        " \n",
        "tokenizer.fit_on_texts(sentence_train)\n",
        " \n",
        "# Menyimpan word_index kedalam sebuah file json\n",
        "word_index = tokenizer.word_index\n",
        " \n",
        "with open('word_index.json', 'w') as fp:\n",
        "    json.dump(word_index, fp)\n",
        " \n",
        "# Membuat sequences dan melakukan padding\n",
        "train_sekuens = tokenizer.texts_to_sequences(sentence_train)\n",
        "test_sekuens = tokenizer.texts_to_sequences(sentence_test)\n",
        " \n",
        "train_padded = pad_sequences(train_sekuens,\n",
        "                             maxlen=20,\n",
        "                             padding='post',\n",
        "                             truncating='post')\n",
        "test_padded = pad_sequences(test_sekuens,\n",
        "                            maxlen=20,\n",
        "                            padding='post',\n",
        "                            truncating='post')"
      ]
    },
    {
      "cell_type": "code",
      "execution_count": 15,
      "metadata": {
        "colab": {
          "base_uri": "https://localhost:8080/"
        },
        "id": "ZZhEf_DDGpQT",
        "outputId": "8b8b7d06-6fe4-457c-dd9e-05b61f0e5f6f"
      },
      "outputs": [
        {
          "name": "stdout",
          "output_type": "stream",
          "text": [
            "Epoch 1/30\n",
            "25/25 [==============================] - 1s 10ms/step - loss: 0.6917 - accuracy: 0.5500 - val_loss: 0.7076 - val_accuracy: 0.2400\n",
            "Epoch 2/30\n",
            "25/25 [==============================] - 0s 4ms/step - loss: 0.6870 - accuracy: 0.5650 - val_loss: 0.7314 - val_accuracy: 0.2400\n",
            "Epoch 3/30\n",
            "25/25 [==============================] - 0s 4ms/step - loss: 0.6803 - accuracy: 0.5650 - val_loss: 0.7578 - val_accuracy: 0.2400\n",
            "Epoch 4/30\n",
            "25/25 [==============================] - 0s 4ms/step - loss: 0.6678 - accuracy: 0.5700 - val_loss: 0.7597 - val_accuracy: 0.2400\n",
            "Epoch 5/30\n",
            "25/25 [==============================] - 0s 5ms/step - loss: 0.6282 - accuracy: 0.6850 - val_loss: 0.6649 - val_accuracy: 0.6250\n",
            "Epoch 6/30\n",
            "25/25 [==============================] - 0s 4ms/step - loss: 0.5196 - accuracy: 0.8425 - val_loss: 0.6100 - val_accuracy: 0.7050\n",
            "Epoch 7/30\n",
            "25/25 [==============================] - 0s 4ms/step - loss: 0.3648 - accuracy: 0.9200 - val_loss: 0.5725 - val_accuracy: 0.7150\n",
            "Epoch 8/30\n",
            "25/25 [==============================] - 0s 4ms/step - loss: 0.2341 - accuracy: 0.9375 - val_loss: 0.4892 - val_accuracy: 0.7900\n",
            "Epoch 9/30\n",
            "25/25 [==============================] - 0s 4ms/step - loss: 0.1580 - accuracy: 0.9563 - val_loss: 0.5952 - val_accuracy: 0.7200\n",
            "Epoch 10/30\n",
            "25/25 [==============================] - 0s 4ms/step - loss: 0.1090 - accuracy: 0.9737 - val_loss: 0.5535 - val_accuracy: 0.7600\n",
            "Epoch 11/30\n",
            "25/25 [==============================] - 0s 4ms/step - loss: 0.0784 - accuracy: 0.9862 - val_loss: 0.6757 - val_accuracy: 0.7050\n",
            "Epoch 12/30\n",
            "25/25 [==============================] - 0s 3ms/step - loss: 0.0620 - accuracy: 0.9887 - val_loss: 0.7070 - val_accuracy: 0.7200\n",
            "Epoch 13/30\n",
            "25/25 [==============================] - 0s 3ms/step - loss: 0.0487 - accuracy: 0.9912 - val_loss: 0.7588 - val_accuracy: 0.7000\n",
            "Epoch 14/30\n",
            "25/25 [==============================] - 0s 4ms/step - loss: 0.0412 - accuracy: 0.9925 - val_loss: 0.8089 - val_accuracy: 0.7000\n",
            "Epoch 15/30\n",
            "25/25 [==============================] - 0s 4ms/step - loss: 0.0350 - accuracy: 0.9925 - val_loss: 0.8440 - val_accuracy: 0.6900\n",
            "Epoch 16/30\n",
            "25/25 [==============================] - 0s 4ms/step - loss: 0.0285 - accuracy: 0.9950 - val_loss: 0.9163 - val_accuracy: 0.6800\n",
            "Epoch 17/30\n",
            "25/25 [==============================] - 0s 4ms/step - loss: 0.0259 - accuracy: 0.9925 - val_loss: 0.7428 - val_accuracy: 0.7650\n",
            "Epoch 18/30\n",
            "25/25 [==============================] - 0s 4ms/step - loss: 0.0239 - accuracy: 0.9962 - val_loss: 0.7708 - val_accuracy: 0.7650\n",
            "Epoch 19/30\n",
            "25/25 [==============================] - 0s 4ms/step - loss: 0.0201 - accuracy: 0.9962 - val_loss: 0.7981 - val_accuracy: 0.7600\n",
            "Epoch 20/30\n",
            "25/25 [==============================] - 0s 3ms/step - loss: 0.0174 - accuracy: 0.9962 - val_loss: 0.8108 - val_accuracy: 0.7600\n",
            "Epoch 21/30\n",
            "25/25 [==============================] - 0s 4ms/step - loss: 0.0151 - accuracy: 0.9962 - val_loss: 0.8380 - val_accuracy: 0.7550\n",
            "Epoch 22/30\n",
            "25/25 [==============================] - 0s 3ms/step - loss: 0.0136 - accuracy: 0.9962 - val_loss: 0.9694 - val_accuracy: 0.7050\n",
            "Epoch 23/30\n",
            "25/25 [==============================] - 0s 4ms/step - loss: 0.0147 - accuracy: 0.9975 - val_loss: 1.1043 - val_accuracy: 0.6700\n",
            "Epoch 24/30\n",
            "25/25 [==============================] - 0s 3ms/step - loss: 0.0146 - accuracy: 0.9975 - val_loss: 1.0185 - val_accuracy: 0.6950\n",
            "Epoch 25/30\n",
            "25/25 [==============================] - 0s 5ms/step - loss: 0.0124 - accuracy: 0.9975 - val_loss: 1.0508 - val_accuracy: 0.6900\n",
            "Epoch 26/30\n",
            "25/25 [==============================] - 0s 4ms/step - loss: 0.0098 - accuracy: 0.9975 - val_loss: 0.9312 - val_accuracy: 0.7550\n",
            "Epoch 27/30\n",
            "25/25 [==============================] - 0s 4ms/step - loss: 0.0098 - accuracy: 0.9987 - val_loss: 0.9958 - val_accuracy: 0.7300\n",
            "Epoch 28/30\n",
            "25/25 [==============================] - 0s 4ms/step - loss: 0.0081 - accuracy: 0.9987 - val_loss: 0.8888 - val_accuracy: 0.7650\n",
            "Epoch 29/30\n",
            "25/25 [==============================] - 0s 3ms/step - loss: 0.0096 - accuracy: 0.9987 - val_loss: 0.9758 - val_accuracy: 0.7550\n",
            "Epoch 30/30\n",
            "25/25 [==============================] - 0s 3ms/step - loss: 0.0089 - accuracy: 0.9975 - val_loss: 1.0803 - val_accuracy: 0.7050\n"
          ]
        }
      ],
      "source": [
        "# Membuat model\n",
        "model = tf.keras.Sequential([\n",
        "    Embedding(2000, 20, input_length=20),\n",
        "    GlobalAveragePooling1D(),\n",
        "    Dense(64, activation='relu'),\n",
        "    Dense(32, activation='relu'),\n",
        "    Dense(1, activation='sigmoid')\n",
        "])\n",
        " \n",
        "# Compile model\n",
        "model.compile(optimizer='adam',\n",
        "              loss='binary_crossentropy',\n",
        "              metrics=['accuracy'])\n",
        " \n",
        "# Train model\n",
        "num_epochs = 30\n",
        "history = model.fit(train_padded, label_train,\n",
        "                    epochs=num_epochs,\n",
        "                    validation_data=(test_padded, label_test),\n",
        "                    verbose=1)"
      ]
    },
    {
      "cell_type": "code",
      "execution_count": 16,
      "metadata": {
        "id": "d-3-rewSG4FY"
      },
      "outputs": [],
      "source": [
        "model.save(\"model.h5\")"
      ]
    },
    {
      "cell_type": "code",
      "execution_count": 17,
      "metadata": {
        "colab": {
          "base_uri": "https://localhost:8080/"
        },
        "id": "ZHBsc5mmG44O",
        "outputId": "9221d788-d23c-4d5c-da77-46005eb4acc6"
      },
      "outputs": [
        {
          "name": "stdout",
          "output_type": "stream",
          "text": [
            "Looking in indexes: https://pypi.org/simple, https://us-python.pkg.dev/colab-wheels/public/simple/\n",
            "Requirement already satisfied: tensorflowjs in /usr/local/lib/python3.7/dist-packages (3.20.0)\n",
            "Requirement already satisfied: packaging~=20.9 in /usr/local/lib/python3.7/dist-packages (from tensorflowjs) (20.9)\n",
            "Requirement already satisfied: jax>=0.3.16 in /usr/local/lib/python3.7/dist-packages (from tensorflowjs) (0.3.17)\n",
            "Requirement already satisfied: importlib_resources>=5.9.0 in /usr/local/lib/python3.7/dist-packages (from tensorflowjs) (5.9.0)\n",
            "Requirement already satisfied: tensorflow-hub<0.13,>=0.7.0 in /usr/local/lib/python3.7/dist-packages (from tensorflowjs) (0.12.0)\n",
            "Requirement already satisfied: six<2,>=1.12.0 in /usr/local/lib/python3.7/dist-packages (from tensorflowjs) (1.15.0)\n",
            "Requirement already satisfied: flax>=0.5.3 in /usr/local/lib/python3.7/dist-packages (from tensorflowjs) (0.6.0)\n",
            "Requirement already satisfied: tensorflow<3,>=2.1.0 in /usr/local/lib/python3.7/dist-packages (from tensorflowjs) (2.8.2+zzzcolab20220719082949)\n",
            "Requirement already satisfied: protobuf<3.20,>=3.9.2 in /usr/local/lib/python3.7/dist-packages (from tensorflowjs) (3.17.3)\n",
            "Requirement already satisfied: PyYAML>=5.4.1 in /usr/local/lib/python3.7/dist-packages (from flax>=0.5.3->tensorflowjs) (6.0)\n",
            "Requirement already satisfied: typing-extensions>=4.1.1 in /usr/local/lib/python3.7/dist-packages (from flax>=0.5.3->tensorflowjs) (4.1.1)\n",
            "Requirement already satisfied: rich~=11.1 in /usr/local/lib/python3.7/dist-packages (from flax>=0.5.3->tensorflowjs) (11.2.0)\n",
            "Requirement already satisfied: msgpack in /usr/local/lib/python3.7/dist-packages (from flax>=0.5.3->tensorflowjs) (1.0.4)\n",
            "Requirement already satisfied: matplotlib in /usr/local/lib/python3.7/dist-packages (from flax>=0.5.3->tensorflowjs) (3.2.2)\n",
            "Requirement already satisfied: numpy>=1.12 in /usr/local/lib/python3.7/dist-packages (from flax>=0.5.3->tensorflowjs) (1.21.6)\n",
            "Requirement already satisfied: optax in /usr/local/lib/python3.7/dist-packages (from flax>=0.5.3->tensorflowjs) (0.1.3)\n",
            "Requirement already satisfied: zipp>=3.1.0 in /usr/local/lib/python3.7/dist-packages (from importlib_resources>=5.9.0->tensorflowjs) (3.8.1)\n",
            "Requirement already satisfied: etils[epath] in /usr/local/lib/python3.7/dist-packages (from jax>=0.3.16->tensorflowjs) (0.7.1)\n",
            "Requirement already satisfied: absl-py in /usr/local/lib/python3.7/dist-packages (from jax>=0.3.16->tensorflowjs) (1.2.0)\n",
            "Requirement already satisfied: opt-einsum in /usr/local/lib/python3.7/dist-packages (from jax>=0.3.16->tensorflowjs) (3.3.0)\n",
            "Requirement already satisfied: scipy>=1.5 in /usr/local/lib/python3.7/dist-packages (from jax>=0.3.16->tensorflowjs) (1.7.3)\n",
            "Requirement already satisfied: pyparsing>=2.0.2 in /usr/local/lib/python3.7/dist-packages (from packaging~=20.9->tensorflowjs) (3.0.9)\n",
            "Requirement already satisfied: commonmark<0.10.0,>=0.9.0 in /usr/local/lib/python3.7/dist-packages (from rich~=11.1->flax>=0.5.3->tensorflowjs) (0.9.1)\n",
            "Requirement already satisfied: colorama<0.5.0,>=0.4.0 in /usr/local/lib/python3.7/dist-packages (from rich~=11.1->flax>=0.5.3->tensorflowjs) (0.4.5)\n",
            "Requirement already satisfied: pygments<3.0.0,>=2.6.0 in /usr/local/lib/python3.7/dist-packages (from rich~=11.1->flax>=0.5.3->tensorflowjs) (2.6.1)\n",
            "Requirement already satisfied: libclang>=9.0.1 in /usr/local/lib/python3.7/dist-packages (from tensorflow<3,>=2.1.0->tensorflowjs) (14.0.6)\n",
            "Requirement already satisfied: flatbuffers>=1.12 in /usr/local/lib/python3.7/dist-packages (from tensorflow<3,>=2.1.0->tensorflowjs) (2.0.7)\n",
            "Requirement already satisfied: keras<2.9,>=2.8.0rc0 in /usr/local/lib/python3.7/dist-packages (from tensorflow<3,>=2.1.0->tensorflowjs) (2.8.0)\n",
            "Requirement already satisfied: keras-preprocessing>=1.1.1 in /usr/local/lib/python3.7/dist-packages (from tensorflow<3,>=2.1.0->tensorflowjs) (1.1.2)\n",
            "Requirement already satisfied: termcolor>=1.1.0 in /usr/local/lib/python3.7/dist-packages (from tensorflow<3,>=2.1.0->tensorflowjs) (1.1.0)\n",
            "Requirement already satisfied: tensorflow-estimator<2.9,>=2.8 in /usr/local/lib/python3.7/dist-packages (from tensorflow<3,>=2.1.0->tensorflowjs) (2.8.0)\n",
            "Requirement already satisfied: tensorboard<2.9,>=2.8 in /usr/local/lib/python3.7/dist-packages (from tensorflow<3,>=2.1.0->tensorflowjs) (2.8.0)\n",
            "Requirement already satisfied: h5py>=2.9.0 in /usr/local/lib/python3.7/dist-packages (from tensorflow<3,>=2.1.0->tensorflowjs) (3.1.0)\n",
            "Requirement already satisfied: google-pasta>=0.1.1 in /usr/local/lib/python3.7/dist-packages (from tensorflow<3,>=2.1.0->tensorflowjs) (0.2.0)\n",
            "Requirement already satisfied: astunparse>=1.6.0 in /usr/local/lib/python3.7/dist-packages (from tensorflow<3,>=2.1.0->tensorflowjs) (1.6.3)\n",
            "Requirement already satisfied: wrapt>=1.11.0 in /usr/local/lib/python3.7/dist-packages (from tensorflow<3,>=2.1.0->tensorflowjs) (1.14.1)\n",
            "Requirement already satisfied: gast>=0.2.1 in /usr/local/lib/python3.7/dist-packages (from tensorflow<3,>=2.1.0->tensorflowjs) (0.5.3)\n",
            "Requirement already satisfied: setuptools in /usr/local/lib/python3.7/dist-packages (from tensorflow<3,>=2.1.0->tensorflowjs) (57.4.0)\n",
            "Requirement already satisfied: tensorflow-io-gcs-filesystem>=0.23.1 in /usr/local/lib/python3.7/dist-packages (from tensorflow<3,>=2.1.0->tensorflowjs) (0.26.0)\n",
            "Requirement already satisfied: grpcio<2.0,>=1.24.3 in /usr/local/lib/python3.7/dist-packages (from tensorflow<3,>=2.1.0->tensorflowjs) (1.48.1)\n",
            "Requirement already satisfied: wheel<1.0,>=0.23.0 in /usr/local/lib/python3.7/dist-packages (from astunparse>=1.6.0->tensorflow<3,>=2.1.0->tensorflowjs) (0.37.1)\n",
            "Requirement already satisfied: cached-property in /usr/local/lib/python3.7/dist-packages (from h5py>=2.9.0->tensorflow<3,>=2.1.0->tensorflowjs) (1.5.2)\n",
            "Requirement already satisfied: werkzeug>=0.11.15 in /usr/local/lib/python3.7/dist-packages (from tensorboard<2.9,>=2.8->tensorflow<3,>=2.1.0->tensorflowjs) (1.0.1)\n",
            "Requirement already satisfied: google-auth<3,>=1.6.3 in /usr/local/lib/python3.7/dist-packages (from tensorboard<2.9,>=2.8->tensorflow<3,>=2.1.0->tensorflowjs) (1.35.0)\n",
            "Requirement already satisfied: tensorboard-data-server<0.7.0,>=0.6.0 in /usr/local/lib/python3.7/dist-packages (from tensorboard<2.9,>=2.8->tensorflow<3,>=2.1.0->tensorflowjs) (0.6.1)\n",
            "Requirement already satisfied: markdown>=2.6.8 in /usr/local/lib/python3.7/dist-packages (from tensorboard<2.9,>=2.8->tensorflow<3,>=2.1.0->tensorflowjs) (3.4.1)\n",
            "Requirement already satisfied: requests<3,>=2.21.0 in /usr/local/lib/python3.7/dist-packages (from tensorboard<2.9,>=2.8->tensorflow<3,>=2.1.0->tensorflowjs) (2.23.0)\n",
            "Requirement already satisfied: tensorboard-plugin-wit>=1.6.0 in /usr/local/lib/python3.7/dist-packages (from tensorboard<2.9,>=2.8->tensorflow<3,>=2.1.0->tensorflowjs) (1.8.1)\n",
            "Requirement already satisfied: google-auth-oauthlib<0.5,>=0.4.1 in /usr/local/lib/python3.7/dist-packages (from tensorboard<2.9,>=2.8->tensorflow<3,>=2.1.0->tensorflowjs) (0.4.6)\n",
            "Requirement already satisfied: pyasn1-modules>=0.2.1 in /usr/local/lib/python3.7/dist-packages (from google-auth<3,>=1.6.3->tensorboard<2.9,>=2.8->tensorflow<3,>=2.1.0->tensorflowjs) (0.2.8)\n",
            "Requirement already satisfied: cachetools<5.0,>=2.0.0 in /usr/local/lib/python3.7/dist-packages (from google-auth<3,>=1.6.3->tensorboard<2.9,>=2.8->tensorflow<3,>=2.1.0->tensorflowjs) (4.2.4)\n",
            "Requirement already satisfied: rsa<5,>=3.1.4 in /usr/local/lib/python3.7/dist-packages (from google-auth<3,>=1.6.3->tensorboard<2.9,>=2.8->tensorflow<3,>=2.1.0->tensorflowjs) (4.9)\n",
            "Requirement already satisfied: requests-oauthlib>=0.7.0 in /usr/local/lib/python3.7/dist-packages (from google-auth-oauthlib<0.5,>=0.4.1->tensorboard<2.9,>=2.8->tensorflow<3,>=2.1.0->tensorflowjs) (1.3.1)\n",
            "Requirement already satisfied: importlib-metadata>=4.4 in /usr/local/lib/python3.7/dist-packages (from markdown>=2.6.8->tensorboard<2.9,>=2.8->tensorflow<3,>=2.1.0->tensorflowjs) (4.12.0)\n",
            "Requirement already satisfied: pyasn1<0.5.0,>=0.4.6 in /usr/local/lib/python3.7/dist-packages (from pyasn1-modules>=0.2.1->google-auth<3,>=1.6.3->tensorboard<2.9,>=2.8->tensorflow<3,>=2.1.0->tensorflowjs) (0.4.8)\n",
            "Requirement already satisfied: idna<3,>=2.5 in /usr/local/lib/python3.7/dist-packages (from requests<3,>=2.21.0->tensorboard<2.9,>=2.8->tensorflow<3,>=2.1.0->tensorflowjs) (2.10)\n",
            "Requirement already satisfied: certifi>=2017.4.17 in /usr/local/lib/python3.7/dist-packages (from requests<3,>=2.21.0->tensorboard<2.9,>=2.8->tensorflow<3,>=2.1.0->tensorflowjs) (2022.6.15)\n",
            "Requirement already satisfied: chardet<4,>=3.0.2 in /usr/local/lib/python3.7/dist-packages (from requests<3,>=2.21.0->tensorboard<2.9,>=2.8->tensorflow<3,>=2.1.0->tensorflowjs) (3.0.4)\n",
            "Requirement already satisfied: urllib3!=1.25.0,!=1.25.1,<1.26,>=1.21.1 in /usr/local/lib/python3.7/dist-packages (from requests<3,>=2.21.0->tensorboard<2.9,>=2.8->tensorflow<3,>=2.1.0->tensorflowjs) (1.24.3)\n",
            "Requirement already satisfied: oauthlib>=3.0.0 in /usr/local/lib/python3.7/dist-packages (from requests-oauthlib>=0.7.0->google-auth-oauthlib<0.5,>=0.4.1->tensorboard<2.9,>=2.8->tensorflow<3,>=2.1.0->tensorflowjs) (3.2.0)\n",
            "Requirement already satisfied: cycler>=0.10 in /usr/local/lib/python3.7/dist-packages (from matplotlib->flax>=0.5.3->tensorflowjs) (0.11.0)\n",
            "Requirement already satisfied: python-dateutil>=2.1 in /usr/local/lib/python3.7/dist-packages (from matplotlib->flax>=0.5.3->tensorflowjs) (2.8.2)\n",
            "Requirement already satisfied: kiwisolver>=1.0.1 in /usr/local/lib/python3.7/dist-packages (from matplotlib->flax>=0.5.3->tensorflowjs) (1.4.4)\n",
            "Requirement already satisfied: chex>=0.0.4 in /usr/local/lib/python3.7/dist-packages (from optax->flax>=0.5.3->tensorflowjs) (0.1.5)\n",
            "Requirement already satisfied: jaxlib>=0.1.37 in /usr/local/lib/python3.7/dist-packages (from optax->flax>=0.5.3->tensorflowjs) (0.3.15+cuda11.cudnn805)\n",
            "Requirement already satisfied: dm-tree>=0.1.5 in /usr/local/lib/python3.7/dist-packages (from chex>=0.0.4->optax->flax>=0.5.3->tensorflowjs) (0.1.7)\n",
            "Requirement already satisfied: toolz>=0.9.0 in /usr/local/lib/python3.7/dist-packages (from chex>=0.0.4->optax->flax>=0.5.3->tensorflowjs) (0.12.0)\n"
          ]
        }
      ],
      "source": [
        "# Install tensorflowjs\n",
        "!pip install tensorflowjs\n",
        " \n",
        "# Convert model.h5 to model\n",
        "!tensorflowjs_converter --input_format=keras model.h5 tfjs_model"
      ]
    },
    {
      "cell_type": "code",
      "execution_count": null,
      "metadata": {
        "id": "v0abj2JBL_pU"
      },
      "outputs": [],
      "source": [
        "from google.colab import files"
      ]
    },
    {
      "cell_type": "code",
      "execution_count": 20,
      "metadata": {
        "colab": {
          "base_uri": "https://localhost:8080/",
          "height": 17
        },
        "id": "SwvcWpZZHGjI",
        "outputId": "bd74458a-a9a8-435b-f68f-5fe7d36ae1fa"
      },
      "outputs": [
        {
          "data": {
            "application/javascript": "\n    async function download(id, filename, size) {\n      if (!google.colab.kernel.accessAllowed) {\n        return;\n      }\n      const div = document.createElement('div');\n      const label = document.createElement('label');\n      label.textContent = `Downloading \"${filename}\": `;\n      div.appendChild(label);\n      const progress = document.createElement('progress');\n      progress.max = size;\n      div.appendChild(progress);\n      document.body.appendChild(div);\n\n      const buffers = [];\n      let downloaded = 0;\n\n      const channel = await google.colab.kernel.comms.open(id);\n      // Send a message to notify the kernel that we're ready.\n      channel.send({})\n\n      for await (const message of channel.messages) {\n        // Send a message to notify the kernel that we're ready.\n        channel.send({})\n        if (message.buffers) {\n          for (const buffer of message.buffers) {\n            buffers.push(buffer);\n            downloaded += buffer.byteLength;\n            progress.value = downloaded;\n          }\n        }\n      }\n      const blob = new Blob(buffers, {type: 'application/binary'});\n      const a = document.createElement('a');\n      a.href = window.URL.createObjectURL(blob);\n      a.download = filename;\n      div.appendChild(a);\n      a.click();\n      div.remove();\n    }\n  ",
            "text/plain": [
              "<IPython.core.display.Javascript object>"
            ]
          },
          "metadata": {},
          "output_type": "display_data"
        },
        {
          "data": {
            "application/javascript": "download(\"download_92509b56-f603-48ce-87cd-db6efd13f574\", \"group1-shard1of1.bin\", 173828)",
            "text/plain": [
              "<IPython.core.display.Javascript object>"
            ]
          },
          "metadata": {},
          "output_type": "display_data"
        }
      ],
      "source": [
        "files.download('/content/tfjs_model/group1-shard1of1.bin')"
      ]
    },
    {
      "cell_type": "code",
      "execution_count": 19,
      "metadata": {
        "id": "9EK7WQ7oL5eJ"
      },
      "outputs": [],
      "source": []
    },
    {
      "cell_type": "code",
      "execution_count": null,
      "metadata": {
        "id": "uZPzhJ3GL8hx"
      },
      "outputs": [],
      "source": []
    }
  ],
  "metadata": {
    "colab": {
      "provenance": []
    },
    "kernelspec": {
      "display_name": "Python 3",
      "name": "python3"
    },
    "language_info": {
      "name": "python"
    }
  },
  "nbformat": 4,
  "nbformat_minor": 0
}
